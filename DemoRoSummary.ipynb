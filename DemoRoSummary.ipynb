{
 "cells": [
  {
   "cell_type": "code",
   "execution_count": 15,
   "metadata": {
    "collapsed": true
   },
   "outputs": [],
   "source": [
    "import json\n",
    "\n",
    "from transformers import TFGPT2LMHeadModel, GPT2Tokenizer\n",
    "from datasets import load_dataset"
   ]
  },
  {
   "cell_type": "markdown",
   "source": [
    "## Demo RoSummary"
   ],
   "metadata": {
    "collapsed": false
   }
  },
  {
   "cell_type": "markdown",
   "source": [
    "### Load AlephNews dataset"
   ],
   "metadata": {
    "collapsed": false
   }
  },
  {
   "cell_type": "code",
   "execution_count": 5,
   "outputs": [
    {
     "data": {
      "text/plain": "Downloading readme:   0%|          | 0.00/21.0 [00:00<?, ?B/s]",
      "application/vnd.jupyter.widget-view+json": {
       "version_major": 2,
       "version_minor": 0,
       "model_id": "b123a57aad974ac0a34b42fe4cabb650"
      },
      "application/json": {
       "n": 0,
       "total": 21,
       "elapsed": 0.0392148494720459,
       "ncols": null,
       "nrows": null,
       "prefix": "Downloading readme",
       "ascii": false,
       "unit": "B",
       "unit_scale": true,
       "rate": null,
       "bar_format": null,
       "postfix": null,
       "unit_divisor": 1000,
       "initial": 0,
       "colour": null
      }
     },
     "metadata": {},
     "output_type": "display_data"
    },
    {
     "name": "stderr",
     "output_type": "stream",
     "text": [
      "Using custom data configuration readerbench--AlephNews-df8c20c4b522d82e\n"
     ]
    },
    {
     "name": "stdout",
     "output_type": "stream",
     "text": [
      "Downloading and preparing dataset json/readerbench--AlephNews to /home/mihai/.cache/huggingface/datasets/readerbench___json/readerbench--AlephNews-df8c20c4b522d82e/0.0.0/e6070c77f18f01a5ad4551a8b7edfba20b8438b7cad4d94e6ad9378022ce4aab...\n"
     ]
    },
    {
     "data": {
      "text/plain": "Downloading data files:   0%|          | 0/3 [00:00<?, ?it/s]",
      "application/vnd.jupyter.widget-view+json": {
       "version_major": 2,
       "version_minor": 0,
       "model_id": "988addc6424546369d8ae4aaf8844e0b"
      },
      "application/json": {
       "n": 0,
       "total": 3,
       "elapsed": 0.03075408935546875,
       "ncols": null,
       "nrows": null,
       "prefix": "Downloading data files",
       "ascii": false,
       "unit": "it",
       "unit_scale": false,
       "rate": null,
       "bar_format": null,
       "postfix": null,
       "unit_divisor": 1000,
       "initial": 0,
       "colour": null
      }
     },
     "metadata": {},
     "output_type": "display_data"
    },
    {
     "data": {
      "text/plain": "Downloading data:   0%|          | 0.00/102M [00:00<?, ?B/s]",
      "application/vnd.jupyter.widget-view+json": {
       "version_major": 2,
       "version_minor": 0,
       "model_id": "db6612b0a52745d08fd8bcb61c52eb34"
      },
      "application/json": {
       "n": 0,
       "total": 102016967,
       "elapsed": 0.03811216354370117,
       "ncols": null,
       "nrows": null,
       "prefix": "Downloading data",
       "ascii": false,
       "unit": "B",
       "unit_scale": true,
       "rate": null,
       "bar_format": null,
       "postfix": null,
       "unit_divisor": 1000,
       "initial": 0,
       "colour": null
      }
     },
     "metadata": {},
     "output_type": "display_data"
    },
    {
     "data": {
      "text/plain": "Downloading data:   0%|          | 0.00/4.63M [00:00<?, ?B/s]",
      "application/vnd.jupyter.widget-view+json": {
       "version_major": 2,
       "version_minor": 0,
       "model_id": "19cdeb4238d44addba9ba726b81eb50d"
      },
      "application/json": {
       "n": 0,
       "total": 4628707,
       "elapsed": 0.04125523567199707,
       "ncols": null,
       "nrows": null,
       "prefix": "Downloading data",
       "ascii": false,
       "unit": "B",
       "unit_scale": true,
       "rate": null,
       "bar_format": null,
       "postfix": null,
       "unit_divisor": 1000,
       "initial": 0,
       "colour": null
      }
     },
     "metadata": {},
     "output_type": "display_data"
    },
    {
     "data": {
      "text/plain": "Downloading data:   0%|          | 0.00/4.38M [00:00<?, ?B/s]",
      "application/vnd.jupyter.widget-view+json": {
       "version_major": 2,
       "version_minor": 0,
       "model_id": "75e330d4191941e78602afa6f3268ab0"
      },
      "application/json": {
       "n": 0,
       "total": 4375668,
       "elapsed": 0.04659914970397949,
       "ncols": null,
       "nrows": null,
       "prefix": "Downloading data",
       "ascii": false,
       "unit": "B",
       "unit_scale": true,
       "rate": null,
       "bar_format": null,
       "postfix": null,
       "unit_divisor": 1000,
       "initial": 0,
       "colour": null
      }
     },
     "metadata": {},
     "output_type": "display_data"
    },
    {
     "data": {
      "text/plain": "Extracting data files:   0%|          | 0/3 [00:00<?, ?it/s]",
      "application/vnd.jupyter.widget-view+json": {
       "version_major": 2,
       "version_minor": 0,
       "model_id": "4ce274400c4e4a8a931d1d79f64c2e9c"
      },
      "application/json": {
       "n": 0,
       "total": 3,
       "elapsed": 0.01752495765686035,
       "ncols": null,
       "nrows": null,
       "prefix": "Extracting data files",
       "ascii": false,
       "unit": "it",
       "unit_scale": false,
       "rate": null,
       "bar_format": null,
       "postfix": null,
       "unit_divisor": 1000,
       "initial": 0,
       "colour": null
      }
     },
     "metadata": {},
     "output_type": "display_data"
    },
    {
     "data": {
      "text/plain": "0 tables [00:00, ? tables/s]",
      "application/vnd.jupyter.widget-view+json": {
       "version_major": 2,
       "version_minor": 0,
       "model_id": "119748c4598441069c0dc8b647bc64ca"
      },
      "application/json": {
       "n": 0,
       "total": null,
       "elapsed": 0.014373779296875,
       "ncols": null,
       "nrows": null,
       "prefix": "",
       "ascii": false,
       "unit": " tables",
       "unit_scale": false,
       "rate": null,
       "bar_format": null,
       "postfix": null,
       "unit_divisor": 1000,
       "initial": 0,
       "colour": null
      }
     },
     "metadata": {},
     "output_type": "display_data"
    },
    {
     "data": {
      "text/plain": "0 tables [00:00, ? tables/s]",
      "application/vnd.jupyter.widget-view+json": {
       "version_major": 2,
       "version_minor": 0,
       "model_id": "1df87a9aa679440d8d7775cb74d628bd"
      },
      "application/json": {
       "n": 0,
       "total": null,
       "elapsed": 0.02454209327697754,
       "ncols": null,
       "nrows": null,
       "prefix": "",
       "ascii": false,
       "unit": " tables",
       "unit_scale": false,
       "rate": null,
       "bar_format": null,
       "postfix": null,
       "unit_divisor": 1000,
       "initial": 0,
       "colour": null
      }
     },
     "metadata": {},
     "output_type": "display_data"
    },
    {
     "data": {
      "text/plain": "0 tables [00:00, ? tables/s]",
      "application/vnd.jupyter.widget-view+json": {
       "version_major": 2,
       "version_minor": 0,
       "model_id": "630f4501de194d08b78a8eb8ea9e689a"
      },
      "application/json": {
       "n": 0,
       "total": null,
       "elapsed": 0.016095876693725586,
       "ncols": null,
       "nrows": null,
       "prefix": "",
       "ascii": false,
       "unit": " tables",
       "unit_scale": false,
       "rate": null,
       "bar_format": null,
       "postfix": null,
       "unit_divisor": 1000,
       "initial": 0,
       "colour": null
      }
     },
     "metadata": {},
     "output_type": "display_data"
    },
    {
     "name": "stdout",
     "output_type": "stream",
     "text": [
      "Dataset json downloaded and prepared to /home/mihai/.cache/huggingface/datasets/readerbench___json/readerbench--AlephNews-df8c20c4b522d82e/0.0.0/e6070c77f18f01a5ad4551a8b7edfba20b8438b7cad4d94e6ad9378022ce4aab. Subsequent calls will reuse this data.\n"
     ]
    },
    {
     "data": {
      "text/plain": "  0%|          | 0/3 [00:00<?, ?it/s]",
      "application/vnd.jupyter.widget-view+json": {
       "version_major": 2,
       "version_minor": 0,
       "model_id": "01696c0b94674cf4a4558e9fad3b6d7c"
      },
      "application/json": {
       "n": 0,
       "total": 3,
       "elapsed": 0.0176393985748291,
       "ncols": null,
       "nrows": null,
       "prefix": "",
       "ascii": false,
       "unit": "it",
       "unit_scale": false,
       "rate": null,
       "bar_format": null,
       "postfix": null,
       "unit_divisor": 1000,
       "initial": 0,
       "colour": null
      }
     },
     "metadata": {},
     "output_type": "display_data"
    }
   ],
   "source": [
    "dataset = load_dataset(\"readerbench/AlephNews\")"
   ],
   "metadata": {
    "collapsed": false
   }
  },
  {
   "cell_type": "code",
   "execution_count": 6,
   "outputs": [
    {
     "name": "stdout",
     "output_type": "stream",
     "text": [
      "DatasetDict({\n",
      "    train: Dataset({\n",
      "        features: ['url', 'title', 'summary', 'paragraphs'],\n",
      "        num_rows: 38683\n",
      "    })\n",
      "    test: Dataset({\n",
      "        features: ['url', 'title', 'summary', 'paragraphs'],\n",
      "        num_rows: 2143\n",
      "    })\n",
      "    validation: Dataset({\n",
      "        features: ['url', 'title', 'summary', 'paragraphs'],\n",
      "        num_rows: 2036\n",
      "    })\n",
      "})\n"
     ]
    }
   ],
   "source": [
    "print(dataset)"
   ],
   "metadata": {
    "collapsed": false
   }
  },
  {
   "cell_type": "code",
   "execution_count": 16,
   "outputs": [
    {
     "name": "stdout",
     "output_type": "stream",
     "text": [
      "{\n",
      "    \"url\": \"https://alephnews.ro/entertainment/boema-lui-puccini-pe-timp-de-pandemie-primul-spectacol-de-opera-live-drive-in-din-europa/\",\n",
      "    \"title\": \"\\\"Boema\\\" lui Puccini, pe timp de pandemie. Primul spectacol de operă live drive-in din Europa.\",\n",
      "    \"summary\": [\n",
      "        \"Pandemia a dus anul ăsta la o premieră în lumea spectacolelor: opera drive-in.\",\n",
      "        \"\\\"Boema\\\" lui Puccini s-a jucat pentru prima dată într-o parcare şi a fost urmărită din maşini.\",\n",
      "        \"Opera de la Bucureşti şi-a redeschis porţile şi te aşteaptă la spectacole.\"\n",
      "    ],\n",
      "    \"paragraphs\": [\n",
      "        \"Englezilor le place să facă lucrurile altfel. Și încearcă să nu te dezamăgească niciodată. Primul spectacol de operă live drive-in din Europa a avut loc în weekend la Londra.S-a jucat \\\"Boema\\\" lui Puccini, în parcarea de la Alexandra Palace.Sala de evenimente, faimoasă în oraş, e închisă încă de la începutul pandemiei.Așa că spectacolul a fost adaptat vremurilor. Spectatorii au stat în mașini și au fost serviţi cu îngheţată, ciocolată şi băuturi.Şi-au reglat radiourile pe aceeaşi frecvenţă, ca să asculte operaAlții au preferat să stea cu geamurile deschise şi să audă direct de pe scenă.La final, în loc de aplauze, artiștii au primit claxoane. Tot în semn de admirație…Opera de la Bucureşti te aşteaptă şi ea din nou la spectacole începând din weekendul ăsta, după mai bine de şase luni de pauză.Doar 130 din cele 915 bilete vor fi scoase la vânzare, pentru a respecta normele impuse de autorităţi.\"\n",
      "    ]\n",
      "}\n"
     ]
    }
   ],
   "source": [
    "print(json.dumps(dataset['test'][0], indent=4, ensure_ascii=False))"
   ],
   "metadata": {
    "collapsed": false
   }
  },
  {
   "cell_type": "markdown",
   "source": [
    "### Load model"
   ],
   "metadata": {
    "collapsed": false
   }
  },
  {
   "cell_type": "code",
   "execution_count": 9,
   "outputs": [
    {
     "data": {
      "text/plain": "Downloading config.json:   0%|          | 0.00/0.98k [00:00<?, ?B/s]",
      "application/vnd.jupyter.widget-view+json": {
       "version_major": 2,
       "version_minor": 0,
       "model_id": "0a823f3835e949ce8bc6187b71283500"
      },
      "application/json": {
       "n": 0,
       "total": 1000,
       "elapsed": 0.014576435089111328,
       "ncols": null,
       "nrows": null,
       "prefix": "Downloading config.json",
       "ascii": false,
       "unit": "B",
       "unit_scale": true,
       "rate": null,
       "bar_format": null,
       "postfix": null,
       "unit_divisor": 1024,
       "initial": 0,
       "colour": null
      }
     },
     "metadata": {},
     "output_type": "display_data"
    },
    {
     "data": {
      "text/plain": "Downloading tf_model.h5:   0%|          | 0.00/1.32G [00:00<?, ?B/s]",
      "application/vnd.jupyter.widget-view+json": {
       "version_major": 2,
       "version_minor": 0,
       "model_id": "6a75fe5295e34a0ab8cc536f242ce76e"
      },
      "application/json": {
       "n": 0,
       "total": 1419648008,
       "elapsed": 0.013838768005371094,
       "ncols": null,
       "nrows": null,
       "prefix": "Downloading tf_model.h5",
       "ascii": false,
       "unit": "B",
       "unit_scale": true,
       "rate": null,
       "bar_format": null,
       "postfix": null,
       "unit_divisor": 1024,
       "initial": 0,
       "colour": null
      }
     },
     "metadata": {},
     "output_type": "display_data"
    },
    {
     "name": "stderr",
     "output_type": "stream",
     "text": [
      "2022-10-31 14:06:19.712821: I tensorflow/stream_executor/cuda/cuda_gpu_executor.cc:975] successful NUMA node read from SysFS had negative value (-1), but there must be at least one NUMA node, so returning NUMA node zero\n",
      "2022-10-31 14:06:19.736844: I tensorflow/stream_executor/cuda/cuda_gpu_executor.cc:975] successful NUMA node read from SysFS had negative value (-1), but there must be at least one NUMA node, so returning NUMA node zero\n",
      "2022-10-31 14:06:19.737579: I tensorflow/stream_executor/cuda/cuda_gpu_executor.cc:975] successful NUMA node read from SysFS had negative value (-1), but there must be at least one NUMA node, so returning NUMA node zero\n",
      "2022-10-31 14:06:19.739137: I tensorflow/core/platform/cpu_feature_guard.cc:193] This TensorFlow binary is optimized with oneAPI Deep Neural Network Library (oneDNN) to use the following CPU instructions in performance-critical operations:  AVX2 FMA\n",
      "To enable them in other operations, rebuild TensorFlow with the appropriate compiler flags.\n",
      "2022-10-31 14:06:19.740537: I tensorflow/stream_executor/cuda/cuda_gpu_executor.cc:975] successful NUMA node read from SysFS had negative value (-1), but there must be at least one NUMA node, so returning NUMA node zero\n",
      "2022-10-31 14:06:19.741178: I tensorflow/stream_executor/cuda/cuda_gpu_executor.cc:975] successful NUMA node read from SysFS had negative value (-1), but there must be at least one NUMA node, so returning NUMA node zero\n",
      "2022-10-31 14:06:19.741754: I tensorflow/stream_executor/cuda/cuda_gpu_executor.cc:975] successful NUMA node read from SysFS had negative value (-1), but there must be at least one NUMA node, so returning NUMA node zero\n",
      "2022-10-31 14:06:20.380024: I tensorflow/stream_executor/cuda/cuda_gpu_executor.cc:975] successful NUMA node read from SysFS had negative value (-1), but there must be at least one NUMA node, so returning NUMA node zero\n",
      "2022-10-31 14:06:20.380400: I tensorflow/stream_executor/cuda/cuda_gpu_executor.cc:975] successful NUMA node read from SysFS had negative value (-1), but there must be at least one NUMA node, so returning NUMA node zero\n",
      "2022-10-31 14:06:20.380728: I tensorflow/stream_executor/cuda/cuda_gpu_executor.cc:975] successful NUMA node read from SysFS had negative value (-1), but there must be at least one NUMA node, so returning NUMA node zero\n",
      "2022-10-31 14:06:20.381028: I tensorflow/core/common_runtime/gpu/gpu_device.cc:1532] Created device /job:localhost/replica:0/task:0/device:GPU:0 with 4632 MB memory:  -> device: 0, name: NVIDIA GeForce RTX 2060, pci bus id: 0000:01:00.0, compute capability: 7.5\n",
      "All model checkpoint layers were used when initializing TFGPT2LMHeadModel.\n",
      "\n",
      "All the layers of TFGPT2LMHeadModel were initialized from the model checkpoint at readerbench/RoSummary-medium.\n",
      "If your task is similar to the task the model of the checkpoint was trained on, you can already use TFGPT2LMHeadModel for predictions without further training.\n"
     ]
    },
    {
     "data": {
      "text/plain": "Downloading vocab.json:   0%|          | 0.00/863k [00:00<?, ?B/s]",
      "application/vnd.jupyter.widget-view+json": {
       "version_major": 2,
       "version_minor": 0,
       "model_id": "184ae0c229d7457c93f1de1bb7b70a65"
      },
      "application/json": {
       "n": 0,
       "total": 884050,
       "elapsed": 0.04321694374084473,
       "ncols": null,
       "nrows": null,
       "prefix": "Downloading vocab.json",
       "ascii": false,
       "unit": "B",
       "unit_scale": true,
       "rate": null,
       "bar_format": null,
       "postfix": null,
       "unit_divisor": 1024,
       "initial": 0,
       "colour": null
      }
     },
     "metadata": {},
     "output_type": "display_data"
    },
    {
     "data": {
      "text/plain": "Downloading merges.txt:   0%|          | 0.00/530k [00:00<?, ?B/s]",
      "application/vnd.jupyter.widget-view+json": {
       "version_major": 2,
       "version_minor": 0,
       "model_id": "8c4ba2a4998440799b141854a1f430a2"
      },
      "application/json": {
       "n": 0,
       "total": 542485,
       "elapsed": 0.04476761817932129,
       "ncols": null,
       "nrows": null,
       "prefix": "Downloading merges.txt",
       "ascii": false,
       "unit": "B",
       "unit_scale": true,
       "rate": null,
       "bar_format": null,
       "postfix": null,
       "unit_divisor": 1024,
       "initial": 0,
       "colour": null
      }
     },
     "metadata": {},
     "output_type": "display_data"
    },
    {
     "data": {
      "text/plain": "Downloading special_tokens_map.json:   0%|          | 0.00/438 [00:00<?, ?B/s]",
      "application/vnd.jupyter.widget-view+json": {
       "version_major": 2,
       "version_minor": 0,
       "model_id": "e0e172b1254d405eb06f9a614dcd6a1d"
      },
      "application/json": {
       "n": 0,
       "total": 438,
       "elapsed": 0.040863990783691406,
       "ncols": null,
       "nrows": null,
       "prefix": "Downloading special_tokens_map.json",
       "ascii": false,
       "unit": "B",
       "unit_scale": true,
       "rate": null,
       "bar_format": null,
       "postfix": null,
       "unit_divisor": 1024,
       "initial": 0,
       "colour": null
      }
     },
     "metadata": {},
     "output_type": "display_data"
    },
    {
     "data": {
      "text/plain": "Downloading tokenizer_config.json:   0%|          | 0.00/741 [00:00<?, ?B/s]",
      "application/vnd.jupyter.widget-view+json": {
       "version_major": 2,
       "version_minor": 0,
       "model_id": "7ed4b9ef9c454760b9b57ecdc141234e"
      },
      "application/json": {
       "n": 0,
       "total": 741,
       "elapsed": 0.03934955596923828,
       "ncols": null,
       "nrows": null,
       "prefix": "Downloading tokenizer_config.json",
       "ascii": false,
       "unit": "B",
       "unit_scale": true,
       "rate": null,
       "bar_format": null,
       "postfix": null,
       "unit_divisor": 1024,
       "initial": 0,
       "colour": null
      }
     },
     "metadata": {},
     "output_type": "display_data"
    }
   ],
   "source": [
    "model = TFGPT2LMHeadModel.from_pretrained(\"readerbench/RoSummary-medium\")\n",
    "tokenizer = GPT2Tokenizer.from_pretrained(\"readerbench/RoSummary-medium\")"
   ],
   "metadata": {
    "collapsed": false
   }
  },
  {
   "cell_type": "markdown",
   "source": [
    "### Generate summary for news"
   ],
   "metadata": {
    "collapsed": false
   }
  },
  {
   "cell_type": "code",
   "execution_count": 10,
   "outputs": [],
   "source": [
    "index = 0\n",
    "config_gen = 'beam-search-4' # greedy beam-search-4 sample-top-p\n",
    "item = dataset['test'][index]\n",
    "configs_gen = {\n",
    "        'greedy': {},\n",
    "        'beam-search-4': {'num_beams': 4, 'early_stopping': True},\n",
    "        'sample-top-p': {'top_k': 25, 'top_p': 0.94, 'do_sample': True},\n",
    "}"
   ],
   "metadata": {
    "collapsed": false
   }
  },
  {
   "cell_type": "code",
   "execution_count": 11,
   "outputs": [],
   "source": [
    "sentence_input = f'Text: {item[\"title\"] + \" \".join(item[\"paragraphs\"])} Summary:'\n",
    "sentence_token = tokenizer.encode(sentence_input, return_tensors='tf')\n",
    "len_input_tokens = len(sentence_token[0])\n",
    "\n",
    "predict_tokens = model.generate(sentence_token, max_length=1024, pad_token_id=tokenizer.eos_token_id,\n",
    "                                **configs_gen[\"beam-search-4\"])[0][len_input_tokens:]\n",
    "predict_text = tokenizer.decode(predict_tokens).replace('<|endoftext|>', '')"
   ],
   "metadata": {
    "collapsed": false
   }
  },
  {
   "cell_type": "markdown",
   "source": [
    "#### Original summary"
   ],
   "metadata": {
    "collapsed": false
   }
  },
  {
   "cell_type": "code",
   "execution_count": 12,
   "outputs": [
    {
     "data": {
      "text/plain": "'Pandemia a dus anul ăsta la o premieră în lumea spectacolelor: opera drive-in. \"Boema\" lui Puccini s-a jucat pentru prima dată într-o parcare şi a fost urmărită din maşini. Opera de la Bucureşti şi-a redeschis porţile şi te aşteaptă la spectacole.'"
     },
     "execution_count": 12,
     "metadata": {},
     "output_type": "execute_result"
    }
   ],
   "source": [
    "\" \".join(item[\"summary\"])"
   ],
   "metadata": {
    "collapsed": false
   }
  },
  {
   "cell_type": "markdown",
   "source": [
    "#### Generated summary"
   ],
   "metadata": {
    "collapsed": false
   }
  },
  {
   "cell_type": "code",
   "execution_count": 13,
   "outputs": [
    {
     "data": {
      "text/plain": "' Primul spectacol de operă live drive-in din Europa a avut loc în weekend la Londra. Spectatorii au stat în mașini și au fost serviţi cu îngheţată, ciocolată şi băuturi. Opera de la Bucureşti te aşteaptă şi ea din nou la spectacole începând din weekendul ăsta, după mai bine de şase luni de pauză.'"
     },
     "execution_count": 13,
     "metadata": {},
     "output_type": "execute_result"
    }
   ],
   "source": [
    "predict_text"
   ],
   "metadata": {
    "collapsed": false
   }
  }
 ],
 "metadata": {
  "kernelspec": {
   "display_name": "Python 3",
   "language": "python",
   "name": "python3"
  },
  "language_info": {
   "codemirror_mode": {
    "name": "ipython",
    "version": 2
   },
   "file_extension": ".py",
   "mimetype": "text/x-python",
   "name": "python",
   "nbconvert_exporter": "python",
   "pygments_lexer": "ipython2",
   "version": "2.7.6"
  }
 },
 "nbformat": 4,
 "nbformat_minor": 0
}
